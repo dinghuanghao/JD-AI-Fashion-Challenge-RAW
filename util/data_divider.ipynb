{
 "cells": [
  {
   "cell_type": "code",
   "execution_count": 1,
   "metadata": {
    "collapsed": true
   },
   "outputs": [],
   "source": [
    "import os\n",
    "import sys"
   ]
  },
  {
   "cell_type": "code",
   "execution_count": 2,
   "metadata": {
    "collapsed": true
   },
   "outputs": [],
   "source": [
    "sys.path.append(os.path.abspath(\"../\"))"
   ]
  },
  {
   "cell_type": "code",
   "execution_count": 3,
   "metadata": {},
   "outputs": [
    {
     "name": "stderr",
     "output_type": "stream",
     "text": [
      "F:\\Develop\\Conda\\lib\\site-packages\\h5py\\__init__.py:36: FutureWarning: Conversion of the second argument of issubdtype from `float` to `np.floating` is deprecated. In future, it will be treated as `np.float64 == np.dtype(float).type`.\n",
      "  from ._conv import register_converters as _register_converters\n"
     ]
    }
   ],
   "source": [
    "from util import data_loader\n",
    "from util import path\n",
    "from util import data_metric\n",
    "from util import data_divider\n",
    "import numpy as np\n",
    "import shutil"
   ]
  },
  {
   "cell_type": "code",
   "execution_count": 4,
   "metadata": {},
   "outputs": [
    {
     "name": "stdout",
     "output_type": "stream",
     "text": [
      "对象平均标签数量:\t 2.56  2.53  2.44  2.49  2.66\n",
      "================================================================\n",
      "对象平均标签数量:\t 2.56  2.53  2.44  2.49  2.66\n",
      "================================================================\n",
      "单个标签的平均出现次数:\n",
      "----------------------------------------------------------------\n",
      "    运动:\t 0.02\t0.02\t0.02\t0.02\t0.01\n",
      "----------------------------------------------------------------\n",
      "    休闲:\t 0.27\t0.25\t0.25\t0.28\t0.17\n",
      "----------------------------------------------------------------\n",
      "    OL/通勤:\t 0.62\t0.66\t0.63\t0.59\t0.72\n",
      "----------------------------------------------------------------\n",
      "    日系:\t 0.0\t0.0\t0.03\t0.01\t0.01\n",
      "----------------------------------------------------------------\n",
      "    韩版:\t 0.36\t0.38\t0.24\t0.35\t0.37\n",
      "----------------------------------------------------------------\n",
      "    欧美:\t 0.21\t0.16\t0.2\t0.16\t0.19\n",
      "----------------------------------------------------------------\n",
      "    英伦:\t 0.03\t0.0\t0.03\t0.01\t0.03\n",
      "----------------------------------------------------------------\n",
      "    少女:\t 0.11\t0.08\t0.06\t0.09\t0.12\n",
      "----------------------------------------------------------------\n",
      "    名媛/淑女:\t 0.65\t0.65\t0.59\t0.66\t0.72\n",
      "----------------------------------------------------------------\n",
      "    简约:\t 0.19\t0.21\t0.3\t0.21\t0.23\n",
      "----------------------------------------------------------------\n",
      "    自然:\t 0.04\t0.06\t0.06\t0.05\t0.04\n",
      "----------------------------------------------------------------\n",
      "    街头/朋克:\t 0.03\t0.02\t0.01\t0.06\t0.03\n",
      "----------------------------------------------------------------\n",
      "    民族:\t 0.03\t0.04\t0.02\t0.0\t0.02\n",
      "----------------------------------------------------------------\n",
      "================================================================\n",
      "不同的标签组合数量:\t 36  34  38  34  35\n",
      "================================================================\n",
      "不同的标签组合密度:\t 0.36  0.34  0.38  0.34  0.35\n"
     ]
    }
   ],
   "source": [
    "y, names = data_loader.load_label(path.ORIGINAL_TRAIN_IMAGES_PATH)\n",
    "(name1, y1), (name2, y2), (name3, y3), (name4, y4), (name5, y5) = data_loader.divide_data(names, y, (0.2, 0.2, 0.2, 0.2 ,0.2))\n",
    "data_metric.labels_analysis([y1, y2, y3, y4, y5])"
   ]
  },
  {
   "cell_type": "code",
   "execution_count": 5,
   "metadata": {
    "collapsed": true
   },
   "outputs": [],
   "source": [
    "lines  = []\n",
    "\n",
    "for i in name1:\n",
    "    lines.append(\"1,%s\\n\" % i)\n",
    "for i in name2:\n",
    "    lines.append(\"2,%s\\n\" % i)\n",
    "for i in name3:\n",
    "    lines.append(\"3,%s\\n\" % i)\n",
    "for i in name4:\n",
    "    lines.append(\"4,%s\\n\" % i)\n",
    "for i in name5:\n",
    "    lines.append(\"5,%s\\n\" % i)"
   ]
  },
  {
   "cell_type": "code",
   "execution_count": 6,
   "metadata": {
    "collapsed": true
   },
   "outputs": [],
   "source": [
    "with open(path.get_k_fold_txt_path(\"1\"), \"w+\") as f:\n",
    "    f.writelines(lines)"
   ]
  },
  {
   "cell_type": "code",
   "execution_count": 7,
   "metadata": {},
   "outputs": [],
   "source": [
    "path.clear_k_fold_data(path.DATA_TYPE_ORIGINAL, \"1\")"
   ]
  },
  {
   "cell_type": "code",
   "execution_count": 9,
   "metadata": {
    "collapsed": true
   },
   "outputs": [],
   "source": [
    "data_divider.copy_k_fold_images(path.DATA_TYPE_ORIGINAL, \"1\")"
   ]
  }
 ],
 "metadata": {
  "kernelspec": {
   "display_name": "Python 3",
   "language": "python",
   "name": "python3"
  },
  "language_info": {
   "codemirror_mode": {
    "name": "ipython",
    "version": 3
   },
   "file_extension": ".py",
   "mimetype": "text/x-python",
   "name": "python",
   "nbconvert_exporter": "python",
   "pygments_lexer": "ipython3",
   "version": "3.6.1"
  }
 },
 "nbformat": 4,
 "nbformat_minor": 2
}
