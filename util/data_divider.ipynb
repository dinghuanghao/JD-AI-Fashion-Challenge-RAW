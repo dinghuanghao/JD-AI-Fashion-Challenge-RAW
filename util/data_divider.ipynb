{
 "cells": [
  {
   "cell_type": "code",
   "execution_count": 1,
   "metadata": {
    "collapsed": true
   },
   "outputs": [],
   "source": [
    "import os\n",
    "import sys"
   ]
  },
  {
   "cell_type": "code",
   "execution_count": 2,
   "metadata": {
    "collapsed": true
   },
   "outputs": [],
   "source": [
    "sys.path.append(os.path.abspath(\"../\"))"
   ]
  },
  {
   "cell_type": "code",
   "execution_count": 3,
   "metadata": {},
   "outputs": [
    {
     "name": "stderr",
     "output_type": "stream",
     "text": [
      "F:\\Develop\\Conda\\lib\\site-packages\\h5py\\__init__.py:36: FutureWarning: Conversion of the second argument of issubdtype from `float` to `np.floating` is deprecated. In future, it will be treated as `np.float64 == np.dtype(float).type`.\n",
      "  from ._conv import register_converters as _register_converters\n"
     ]
    }
   ],
   "source": [
    "from util import data_loader\n",
    "from util import path\n",
    "from util import data_metric\n",
    "import numpy as np\n",
    "from shutil import copyfile     "
   ]
  },
  {
   "cell_type": "code",
   "execution_count": 4,
   "metadata": {},
   "outputs": [
    {
     "name": "stdout",
     "output_type": "stream",
     "text": [
      "对象平均标签数量:\t 2.53  2.54  2.42  2.62  2.57\n",
      "================================================================\n",
      "对象平均标签数量:\t 2.53  2.54  2.42  2.62  2.57\n",
      "================================================================\n",
      "单个标签的平均出现次数:\n",
      "----------------------------------------------------------------\n",
      "    运动:\t 0.01\t0.02\t0.01\t0.05\t0.0\n",
      "----------------------------------------------------------------\n",
      "    休闲:\t 0.21\t0.29\t0.28\t0.23\t0.21\n",
      "----------------------------------------------------------------\n",
      "    OL/通勤:\t 0.67\t0.6\t0.6\t0.67\t0.68\n",
      "----------------------------------------------------------------\n",
      "    日系:\t 0.01\t0.02\t0.01\t0.01\t0.0\n",
      "----------------------------------------------------------------\n",
      "    韩版:\t 0.32\t0.32\t0.35\t0.39\t0.32\n",
      "----------------------------------------------------------------\n",
      "    欧美:\t 0.19\t0.15\t0.15\t0.23\t0.2\n",
      "----------------------------------------------------------------\n",
      "    英伦:\t 0.03\t0.01\t0.01\t0.03\t0.02\n",
      "----------------------------------------------------------------\n",
      "    少女:\t 0.07\t0.14\t0.08\t0.09\t0.08\n",
      "----------------------------------------------------------------\n",
      "    名媛/淑女:\t 0.59\t0.61\t0.67\t0.68\t0.72\n",
      "----------------------------------------------------------------\n",
      "    简约:\t 0.28\t0.24\t0.18\t0.2\t0.24\n",
      "----------------------------------------------------------------\n",
      "    自然:\t 0.08\t0.08\t0.03\t0.02\t0.04\n",
      "----------------------------------------------------------------\n",
      "    街头/朋克:\t 0.04\t0.04\t0.02\t0.01\t0.04\n",
      "----------------------------------------------------------------\n",
      "    民族:\t 0.03\t0.02\t0.03\t0.01\t0.02\n",
      "----------------------------------------------------------------\n",
      "================================================================\n",
      "不同的标签组合数量:\t 41  42  31  35  33\n",
      "================================================================\n",
      "不同的标签组合密度:\t 0.41  0.42  0.31  0.35  0.33\n"
     ]
    }
   ],
   "source": [
    "y, names = data_loader.load_label(path.ORIGINAL_TRAIN_IMAGES_PATH)\n",
    "(name1, y1), (name2, y2), (name3, y3), (name4, y4), (name5, y5) = data_loader.divide_data(names, y, (0.2, 0.2, 0.2, 0.2 ,0.2))\n",
    "data_metric.labels_analysis([y1, y2, y3, y4, y5])"
   ]
  },
  {
   "cell_type": "code",
   "execution_count": 5,
   "metadata": {
    "collapsed": true
   },
   "outputs": [],
   "source": [
    "lines  = []\n",
    "\n",
    "for i in name1:\n",
    "    lines.append(\"1,%s\\n\" % i)\n",
    "for i in name2:\n",
    "    lines.append(\"2,%s\\n\" % i)\n",
    "for i in name3:\n",
    "    lines.append(\"3,%s\\n\" % i)\n",
    "for i in name4:\n",
    "    lines.append(\"4,%s\\n\" % i)\n",
    "for i in name5:\n",
    "    lines.append(\"5,%s\\n\" % i)"
   ]
  },
  {
   "cell_type": "code",
   "execution_count": 6,
   "metadata": {
    "collapsed": true
   },
   "outputs": [],
   "source": [
    "with open(path.K_FOLD_DATA_TXT, \"w+\") as f:\n",
    "    f.writelines(lines)"
   ]
  },
  {
   "cell_type": "code",
   "execution_count": 14,
   "metadata": {
    "collapsed": true
   },
   "outputs": [],
   "source": [
    "#根据k-fold.txt文件的内容，将文件从original目录拷贝到k-fold/1~5-original目录下\n",
    "with open(path.K_FOLD_DATA_TXT, \"r\") as f:\n",
    "    for l in f.readlines():\n",
    "        number, image_name = l.split(\",\")\n",
    "        src_image_path = os.path.join(path.ORIGINAL_TRAIN_IMAGES_PATH, image_name).strip()\n",
    "        dst_image_path = os.path.join(os.path.join(path.K_FOLD_PATH,path.K_FOLD_ORIGINAL_SUBDIR % number), image_name).strip()\n",
    "        copyfile(src_image_path, dst_image_path)"
   ]
  },
  {
   "cell_type": "code",
   "execution_count": null,
   "metadata": {
    "collapsed": true
   },
   "outputs": [],
   "source": []
  }
 ],
 "metadata": {
  "kernelspec": {
   "display_name": "Python 3",
   "language": "python",
   "name": "python3"
  },
  "language_info": {
   "codemirror_mode": {
    "name": "ipython",
    "version": 3
   },
   "file_extension": ".py",
   "mimetype": "text/x-python",
   "name": "python",
   "nbconvert_exporter": "python",
   "pygments_lexer": "ipython3",
   "version": "3.6.1"
  }
 },
 "nbformat": 4,
 "nbformat_minor": 2
}
