{
 "cells": [
  {
   "cell_type": "code",
   "execution_count": 1,
   "metadata": {},
   "outputs": [
    {
     "name": "stderr",
     "output_type": "stream",
     "text": [
      "F:\\Develop\\Conda\\lib\\site-packages\\h5py\\__init__.py:36: FutureWarning: Conversion of the second argument of issubdtype from `float` to `np.floating` is deprecated. In future, it will be treated as `np.float64 == np.dtype(float).type`.\n",
      "  from ._conv import register_converters as _register_converters\n"
     ]
    }
   ],
   "source": [
    "import os\n",
    "import sys\n",
    "sys.path.append(os.path.abspath(\"../\"))\n",
    "from util import data_loader\n",
    "from util import path\n",
    "from util import data_metric\n",
    "import numpy as np\n",
    "import shutil\n",
    "import config"
   ]
  },
  {
   "cell_type": "code",
   "execution_count": 7,
   "metadata": {},
   "outputs": [
    {
     "name": "stdout",
     "output_type": "stream",
     "text": [
      "对象平均标签数量:\t 2.64575    2.66475    2.63225    2.65175    2.647\n",
      "================================================================\n",
      "对象平均标签数量:\t 2.64575    2.66475    2.63225    2.65175    2.647\n",
      "================================================================\n",
      "单个标签的平均出现次数:\n",
      "----------------------------------------------------------------\n",
      "    运动:\t 0.00225    0.0025    0.00125    0.00175    0.00225\n",
      "----------------------------------------------------------------\n",
      "    休闲:\t 0.0795    0.07925    0.07875    0.07475    0.0765\n",
      "----------------------------------------------------------------\n",
      "    OL/通勤:\t 0.90575    0.90925    0.9055    0.90975    0.91175\n",
      "----------------------------------------------------------------\n",
      "    日系:\t 0.00575    0.006    0.00525    0.0055    0.00475\n",
      "----------------------------------------------------------------\n",
      "    韩版:\t 0.33    0.34    0.3385    0.34025    0.33625\n",
      "----------------------------------------------------------------\n",
      "    欧美:\t 0.1595    0.166    0.1635    0.15475    0.16075\n",
      "----------------------------------------------------------------\n",
      "    英伦:\t 0.00375    0.004    0.003    0.003    0.00325\n",
      "----------------------------------------------------------------\n",
      "    少女:\t 0.026    0.0275    0.024    0.026    0.0235\n",
      "----------------------------------------------------------------\n",
      "    名媛/淑女:\t 0.8975    0.903    0.902    0.905    0.8995\n",
      "----------------------------------------------------------------\n",
      "    简约:\t 0.136    0.124    0.12125    0.129    0.13275\n",
      "----------------------------------------------------------------\n",
      "    自然:\t 0.071    0.072    0.063    0.07225    0.06775\n",
      "----------------------------------------------------------------\n",
      "    街头/朋克:\t 0.02325    0.0255    0.02025    0.02275    0.02125\n",
      "----------------------------------------------------------------\n",
      "    民族:\t 0.0055    0.00575    0.006    0.007    0.00675\n",
      "----------------------------------------------------------------\n",
      "================================================================\n",
      "不同的标签组合数量:\t 89    85    75    81    76\n",
      "================================================================\n",
      "不同的标签组合密度:\t 0.02225    0.02125    0.01875    0.02025    0.019\n"
     ]
    }
   ],
   "source": [
    "y, names = data_loader.load_label(path.ORIGINAL_TRAIN_IMAGES_PATH, 20000)\n",
    "(name1, y1), (name2, y2), (name3, y3), (name4, y4), (name5, y5) = data_loader.divide_data(names, y, (0.2, 0.2, 0.2, 0.2 ,0.2))\n",
    "data_metric.labels_analysis([y1, y2, y3, y4, y5])"
   ]
  },
  {
   "cell_type": "code",
   "execution_count": 8,
   "metadata": {
    "collapsed": true
   },
   "outputs": [],
   "source": [
    "lines  = []\n",
    "\n",
    "for i in name1:\n",
    "    lines.append(\"1,%s\\n\" % i)\n",
    "for i in name2:\n",
    "    lines.append(\"2,%s\\n\" % i)\n",
    "for i in name3:\n",
    "    lines.append(\"3,%s\\n\" % i)\n",
    "for i in name4:\n",
    "    lines.append(\"4,%s\\n\" % i)\n",
    "for i in name5:\n",
    "    lines.append(\"5,%s\\n\" % i)"
   ]
  },
  {
   "cell_type": "code",
   "execution_count": 9,
   "metadata": {
    "collapsed": true
   },
   "outputs": [],
   "source": [
    "with open(os.path.join(path.K_FOLD_TXT_PATH, \"baseline.txt\"), \"w+\") as f:\n",
    "    f.writelines(lines)"
   ]
  },
  {
   "cell_type": "code",
   "execution_count": 7,
   "metadata": {
    "collapsed": true
   },
   "outputs": [],
   "source": []
  },
  {
   "cell_type": "code",
   "execution_count": 9,
   "metadata": {
    "collapsed": true
   },
   "outputs": [],
   "source": []
  },
  {
   "cell_type": "code",
   "execution_count": 19,
   "metadata": {
    "collapsed": true
   },
   "outputs": [],
   "source": []
  },
  {
   "cell_type": "code",
   "execution_count": 2,
   "metadata": {
    "collapsed": true
   },
   "outputs": [],
   "source": []
  },
  {
   "cell_type": "code",
   "execution_count": 3,
   "metadata": {
    "collapsed": true
   },
   "outputs": [],
   "source": []
  },
  {
   "cell_type": "code",
   "execution_count": null,
   "metadata": {
    "collapsed": true
   },
   "outputs": [],
   "source": []
  }
 ],
 "metadata": {
  "kernelspec": {
   "display_name": "Python 3",
   "language": "python",
   "name": "python3"
  },
  "language_info": {
   "codemirror_mode": {
    "name": "ipython",
    "version": 3
   },
   "file_extension": ".py",
   "mimetype": "text/x-python",
   "name": "python",
   "nbconvert_exporter": "python",
   "pygments_lexer": "ipython3",
   "version": "3.6.1"
  }
 },
 "nbformat": 4,
 "nbformat_minor": 2
}
