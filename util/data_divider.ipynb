{
 "cells": [
  {
   "cell_type": "code",
   "execution_count": 1,
   "metadata": {},
   "outputs": [
    {
     "name": "stderr",
     "output_type": "stream",
     "text": [
      "F:\\Develop\\Conda\\lib\\site-packages\\h5py\\__init__.py:36: FutureWarning: Conversion of the second argument of issubdtype from `float` to `np.floating` is deprecated. In future, it will be treated as `np.float64 == np.dtype(float).type`.\n",
      "  from ._conv import register_converters as _register_converters\n"
     ]
    },
    {
     "ename": "ImportError",
     "evalue": "cannot import name 'data_divider'",
     "output_type": "error",
     "traceback": [
      "\u001b[1;31m---------------------------------------------------------------------------\u001b[0m",
      "\u001b[1;31mImportError\u001b[0m                               Traceback (most recent call last)",
      "\u001b[1;32m<ipython-input-1-497cbb5b5129>\u001b[0m in \u001b[0;36m<module>\u001b[1;34m()\u001b[0m\n\u001b[0;32m      5\u001b[0m \u001b[1;32mfrom\u001b[0m \u001b[0mutil\u001b[0m \u001b[1;32mimport\u001b[0m \u001b[0mpath\u001b[0m\u001b[1;33m\u001b[0m\u001b[0m\n\u001b[0;32m      6\u001b[0m \u001b[1;32mfrom\u001b[0m \u001b[0mutil\u001b[0m \u001b[1;32mimport\u001b[0m \u001b[0mdata_metric\u001b[0m\u001b[1;33m\u001b[0m\u001b[0m\n\u001b[1;32m----> 7\u001b[1;33m \u001b[1;32mfrom\u001b[0m \u001b[0mutil\u001b[0m \u001b[1;32mimport\u001b[0m \u001b[0mdata_divider\u001b[0m\u001b[1;33m\u001b[0m\u001b[0m\n\u001b[0m\u001b[0;32m      8\u001b[0m \u001b[1;32mimport\u001b[0m \u001b[0mnumpy\u001b[0m \u001b[1;32mas\u001b[0m \u001b[0mnp\u001b[0m\u001b[1;33m\u001b[0m\u001b[0m\n\u001b[0;32m      9\u001b[0m \u001b[1;32mimport\u001b[0m \u001b[0mshutil\u001b[0m\u001b[1;33m\u001b[0m\u001b[0m\n",
      "\u001b[1;31mImportError\u001b[0m: cannot import name 'data_divider'"
     ]
    }
   ],
   "source": [
    "import os\n",
    "import sys\n",
    "sys.path.append(os.path.abspath(\"../\"))\n",
    "from util import data_loader\n",
    "from util import path\n",
    "from util import data_metric\n",
    "from util import data_divider\n",
    "import numpy as np\n",
    "import shutil\n",
    "import config"
   ]
  },
  {
   "cell_type": "code",
   "execution_count": 4,
   "metadata": {},
   "outputs": [
    {
     "name": "stdout",
     "output_type": "stream",
     "text": [
      "对象平均标签数量:\t 2.6472998816136966  2.6497905663813515  2.652308532920499  2.6497905663813515  2.651429612092515\n",
      "================================================================\n",
      "对象平均标签数量:\t 2.6472998816136966  2.6497905663813515  2.652308532920499  2.6497905663813515  2.651429612092515\n",
      "================================================================\n",
      "单个标签的平均出现次数:\n",
      "----------------------------------------------------------------\n",
      "    运动:\t 0.0017302613605318278\t0.0024585685667455836\t0.0017302613605318278\t0.0014569295210344199\t0.0020943361864869787\n",
      "----------------------------------------------------------------\n",
      "    休闲:\t 0.08150441671978872\t0.07858313604079403\t0.07740642928695018\t0.07758149699508286\t0.07576033509378984\n",
      "----------------------------------------------------------------\n",
      "    OL/通勤:\t 0.9065658865312813\t0.9074849754143144\t0.9093889445405701\t0.9102167182662538\t0.909670369695866\n",
      "----------------------------------------------------------------\n",
      "    日系:\t 0.005099717694199071\t0.004461846658167911\t0.004006921045442128\t0.005645601894008377\t0.0046439628482972135\n",
      "----------------------------------------------------------------\n",
      "    韩版:\t 0.3444130771332301\t0.3413767983973775\t0.3466897368181404\t0.3367328355490803\t0.3356401384083045\n",
      "----------------------------------------------------------------\n",
      "    欧美:\t 0.1595483107185138\t0.16235658350027318\t0.15900191239413533\t0.1609907120743034\t0.16690948825350574\n",
      "----------------------------------------------------------------\n",
      "    英伦:\t 0.0030962571714780074\t0.0033691495173920963\t0.004006921045442128\t0.0038244399927153524\t0.00364232380258605\n",
      "----------------------------------------------------------------\n",
      "    少女:\t 0.023495127948274293\t0.025132034237843746\t0.025680721245788178\t0.02485885995264979\t0.024312511382261884\n",
      "----------------------------------------------------------------\n",
      "    名媛/淑女:\t 0.8978235133412258\t0.8995629211436896\t0.9010108369001002\t0.8989255144782371\t0.9001092697140776\n",
      "----------------------------------------------------------------\n",
      "    简约:\t 0.12740187596758037\t0.12484064833363687\t0.1284036062289409\t0.13230741212893826\t0.13303587688945548\n",
      "----------------------------------------------------------------\n",
      "    自然:\t 0.06711592751115564\t0.07002367510471681\t0.06547673253802022\t0.06856674558368239\t0.06683664177745402\n",
      "----------------------------------------------------------------\n",
      "    街头/朋克:\t 0.023495127948274293\t0.022946639956292113\t0.022220198524724524\t0.023128756146421417\t0.02194500091058095\n",
      "----------------------------------------------------------------\n",
      "    民族:\t 0.006010381568163191\t0.007193589510107449\t0.007285310991712959\t0.005554543798943726\t0.006829357129848844\n",
      "----------------------------------------------------------------\n",
      "================================================================\n",
      "不同的标签组合数量:\t 107  120  114  118  112\n",
      "================================================================\n",
      "不同的标签组合密度:\t 0.009744103451416082  0.010926971407758149  0.010381568163190967  0.010744855217628847  0.01019850664724094\n"
     ]
    }
   ],
   "source": [
    "y, names = data_loader.load_label(path.ORIGINAL_TRAIN_IMAGES_PATH)\n",
    "(name1, y1), (name2, y2), (name3, y3), (name4, y4), (name5, y5) = data_loader.divide_data(names, y, (0.2, 0.2, 0.2, 0.2 ,0.2))\n",
    "data_metric.labels_analysis([y1, y2, y3, y4, y5])"
   ]
  },
  {
   "cell_type": "code",
   "execution_count": 5,
   "metadata": {
    "collapsed": true
   },
   "outputs": [],
   "source": [
    "lines  = []\n",
    "\n",
    "for i in name1:\n",
    "    lines.append(\"1,%s\\n\" % i)\n",
    "for i in name2:\n",
    "    lines.append(\"2,%s\\n\" % i)\n",
    "for i in name3:\n",
    "    lines.append(\"3,%s\\n\" % i)\n",
    "for i in name4:\n",
    "    lines.append(\"4,%s\\n\" % i)\n",
    "for i in name5:\n",
    "    lines.append(\"5,%s\\n\" % i)"
   ]
  },
  {
   "cell_type": "code",
   "execution_count": 6,
   "metadata": {
    "collapsed": true
   },
   "outputs": [],
   "source": [
    "with open(path.get_k_fold_txt_path(\"1\"), \"w+\") as f:\n",
    "    f.writelines(lines)"
   ]
  },
  {
   "cell_type": "code",
   "execution_count": 7,
   "metadata": {
    "collapsed": true
   },
   "outputs": [],
   "source": []
  },
  {
   "cell_type": "code",
   "execution_count": 9,
   "metadata": {
    "collapsed": true
   },
   "outputs": [],
   "source": []
  },
  {
   "cell_type": "code",
   "execution_count": 19,
   "metadata": {
    "collapsed": true
   },
   "outputs": [],
   "source": []
  },
  {
   "cell_type": "code",
   "execution_count": 2,
   "metadata": {},
   "outputs": [],
   "source": [
    "import tensorflow as tf"
   ]
  },
  {
   "cell_type": "code",
   "execution_count": 3,
   "metadata": {
    "collapsed": true
   },
   "outputs": [],
   "source": [
    "dataset = tf.data.Dataset.from_tensor_slices(([\"1\", \"2\"], [1, 2]))"
   ]
  },
  {
   "cell_type": "code",
   "execution_count": null,
   "metadata": {
    "collapsed": true
   },
   "outputs": [],
   "source": [
    "def _parse_function"
   ]
  }
 ],
 "metadata": {
  "kernelspec": {
   "display_name": "Python 3",
   "language": "python",
   "name": "python3"
  },
  "language_info": {
   "codemirror_mode": {
    "name": "ipython",
    "version": 3
   },
   "file_extension": ".py",
   "mimetype": "text/x-python",
   "name": "python",
   "nbconvert_exporter": "python",
   "pygments_lexer": "ipython3",
   "version": "3.6.1"
  }
 },
 "nbformat": 4,
 "nbformat_minor": 2
}
