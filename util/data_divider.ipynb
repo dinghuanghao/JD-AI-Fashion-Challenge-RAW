{
 "cells": [
  {
   "cell_type": "code",
   "execution_count": 1,
   "metadata": {
    "collapsed": true
   },
   "outputs": [],
   "source": [
    "import os\n",
    "import sys"
   ]
  },
  {
   "cell_type": "code",
   "execution_count": 2,
   "metadata": {
    "collapsed": true
   },
   "outputs": [],
   "source": [
    "sys.path.append(os.path.abspath(\"../\"))"
   ]
  },
  {
   "cell_type": "code",
   "execution_count": 3,
   "metadata": {},
   "outputs": [
    {
     "name": "stderr",
     "output_type": "stream",
     "text": [
      "F:\\Develop\\Conda\\lib\\site-packages\\h5py\\__init__.py:36: FutureWarning: Conversion of the second argument of issubdtype from `float` to `np.floating` is deprecated. In future, it will be treated as `np.float64 == np.dtype(float).type`.\n",
      "  from ._conv import register_converters as _register_converters\n"
     ]
    }
   ],
   "source": [
    "from util import data_loader\n",
    "from util import path\n",
    "from util import data_metric"
   ]
  },
  {
   "cell_type": "code",
   "execution_count": 32,
   "metadata": {},
   "outputs": [
    {
     "name": "stdout",
     "output_type": "stream",
     "text": [
      "对象平均标签数量:\t 2.37  2.55  2.54  2.58  2.64\n",
      "================================================================\n",
      "对象平均标签数量:\t 2.37  2.55  2.54  2.58  2.64\n",
      "================================================================\n",
      "单个标签的平均出现次数:\n",
      "----------------------------------------------------------------\n",
      "    运动:\t 0.01\t0.06\t0.01\t0.01\t0.0\n",
      "----------------------------------------------------------------\n",
      "    休闲:\t 0.29\t0.25\t0.28\t0.2\t0.2\n",
      "----------------------------------------------------------------\n",
      "    OL/通勤:\t 0.59\t0.63\t0.62\t0.68\t0.7\n",
      "----------------------------------------------------------------\n",
      "    日系:\t 0.02\t0.0\t0.01\t0.01\t0.01\n",
      "----------------------------------------------------------------\n",
      "    韩版:\t 0.31\t0.41\t0.25\t0.32\t0.41\n",
      "----------------------------------------------------------------\n",
      "    欧美:\t 0.15\t0.18\t0.19\t0.21\t0.19\n",
      "----------------------------------------------------------------\n",
      "    英伦:\t 0.02\t0.03\t0.01\t0.01\t0.03\n",
      "----------------------------------------------------------------\n",
      "    少女:\t 0.08\t0.07\t0.1\t0.13\t0.08\n",
      "----------------------------------------------------------------\n",
      "    名媛/淑女:\t 0.61\t0.66\t0.65\t0.66\t0.69\n",
      "----------------------------------------------------------------\n",
      "    简约:\t 0.21\t0.18\t0.29\t0.18\t0.28\n",
      "----------------------------------------------------------------\n",
      "    自然:\t 0.05\t0.04\t0.06\t0.09\t0.01\n",
      "----------------------------------------------------------------\n",
      "    街头/朋克:\t 0.02\t0.02\t0.04\t0.05\t0.02\n",
      "----------------------------------------------------------------\n",
      "    民族:\t 0.01\t0.02\t0.03\t0.03\t0.02\n",
      "----------------------------------------------------------------\n",
      "================================================================\n",
      "不同的标签组合数量:\t 34  34  37  38  31\n",
      "================================================================\n",
      "不同的标签组合密度:\t 0.34  0.34  0.37  0.38  0.31\n"
     ]
    }
   ],
   "source": [
    "#仅仅加载标签并进行分析，如果不合适则反复执行此单元\n",
    "y, names = data_loader.load_label(path.ORIGINAL_TRAIN_IMAGES_PATH)\n",
    "(name1, y1), (name2, y2), (name3, y3), (name4, y4), (name5, y5) = data_loader.divide_data(names, y, (0.2, 0.2, 0.2, 0.2 ,0.2))\n",
    "data_metric.labels_analysis([y1, y2, y3, y4, y5])"
   ]
  },
  {
   "cell_type": "code",
   "execution_count": 33,
   "metadata": {},
   "outputs": [],
   "source": [
    "# 将划分结果保存到k-fold.txt\n",
    "lines = []\n",
    "for n in name1:\n",
    "    lines.append(\"1, %s\\n\" % n)\n",
    "for n in name2:\n",
    "    lines.append(\"2, %s\\n\" % n)\n",
    "for n in name3:\n",
    "    lines.append(\"3, %s\\n\" % n)\n",
    "for n in name4:\n",
    "    lines.append(\"4, %s\\n\" % n)\n",
    "for n in name5:\n",
    "    lines.append(\"5, %s\\n\" % n)\n",
    "with open(path.K_FOLD_DATA_TXT, 'w+') as f:\n",
    "    f.writelines(lines)\n",
    "    f.close()"
   ]
  }
 ],
 "metadata": {
  "kernelspec": {
   "display_name": "Python 3",
   "language": "python",
   "name": "python3"
  },
  "language_info": {
   "codemirror_mode": {
    "name": "ipython",
    "version": 3
   },
   "file_extension": ".py",
   "mimetype": "text/x-python",
   "name": "python",
   "nbconvert_exporter": "python",
   "pygments_lexer": "ipython3",
   "version": "3.6.1"
  }
 },
 "nbformat": 4,
 "nbformat_minor": 2
}
