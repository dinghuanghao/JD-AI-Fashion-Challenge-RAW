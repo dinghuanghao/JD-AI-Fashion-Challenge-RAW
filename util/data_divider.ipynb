{
 "cells": [
  {
   "cell_type": "code",
   "execution_count": 1,
   "metadata": {},
   "outputs": [
    {
     "name": "stderr",
     "output_type": "stream",
     "text": [
      "F:\\Develop\\Conda\\lib\\site-packages\\h5py\\__init__.py:36: FutureWarning: Conversion of the second argument of issubdtype from `float` to `np.floating` is deprecated. In future, it will be treated as `np.float64 == np.dtype(float).type`.\n  from ._conv import register_converters as _register_converters\n"
     ]
    }
   ],
   "source": [
    "import os\n",
    "import sys\n",
    "sys.path.append(os.path.abspath(\"../\"))\n",
    "from util import data_loader\n",
    "from util import path\n",
    "from util import data_metric\n",
    "import numpy as np\n",
    "import shutil\n",
    "import config"
   ]
  },
  {
   "cell_type": "code",
   "execution_count": 3,
   "metadata": {},
   "outputs": [],
   "source": [
    "y, names = data_loader.load_label(path.ORIGINAL_TRAIN_IMAGES_PATH)\n",
    "(name1, y1), (name2, y2), (name3, y3), (name4, y4), (name5, y5) = data_loader.divide_data(names, y[:10000], (0.2, 0.2, 0.2, 0.2 ,0.2))\n",
    "data_metric.labels_analysis([y1, y2, y3, y4, y5])"
   ]
  },
  {
   "cell_type": "code",
   "execution_count": 5,
   "metadata": {
    "collapsed": true
   },
   "outputs": [],
   "source": [
    "lines  = []\n",
    "\n",
    "for i in name1:\n",
    "    lines.append(\"1,%s\\n\" % i)\n",
    "for i in name2:\n",
    "    lines.append(\"2,%s\\n\" % i)\n",
    "for i in name3:\n",
    "    lines.append(\"3,%s\\n\" % i)\n",
    "for i in name4:\n",
    "    lines.append(\"4,%s\\n\" % i)\n",
    "for i in name5:\n",
    "    lines.append(\"5,%s\\n\" % i)"
   ]
  },
  {
   "cell_type": "code",
   "execution_count": 6,
   "metadata": {
    "collapsed": true
   },
   "outputs": [],
   "source": [
    "with open(os.path.join(path.K_FOLD_TXT_PATH, \"1.txt\"), \"w+\") as f:\n",
    "    f.writelines(lines)"
   ]
  },
  {
   "cell_type": "code",
   "execution_count": 7,
   "metadata": {
    "collapsed": true
   },
   "outputs": [],
   "source": []
  },
  {
   "cell_type": "code",
   "execution_count": 9,
   "metadata": {
    "collapsed": true
   },
   "outputs": [],
   "source": []
  },
  {
   "cell_type": "code",
   "execution_count": 19,
   "metadata": {
    "collapsed": true
   },
   "outputs": [],
   "source": []
  },
  {
   "cell_type": "code",
   "execution_count": 2,
   "metadata": {},
   "outputs": [],
   "source": [
    ""
   ]
  },
  {
   "cell_type": "code",
   "execution_count": 3,
   "metadata": {
    "collapsed": true
   },
   "outputs": [],
   "source": [
    ""
   ]
  },
  {
   "cell_type": "code",
   "execution_count": null,
   "metadata": {
    "collapsed": true
   },
   "outputs": [],
   "source": [
    ""
   ]
  }
 ],
 "metadata": {
  "kernelspec": {
   "display_name": "Python 3",
   "language": "python",
   "name": "python3"
  },
  "language_info": {
   "codemirror_mode": {
    "name": "ipython",
    "version": 3
   },
   "file_extension": ".py",
   "mimetype": "text/x-python",
   "name": "python",
   "nbconvert_exporter": "python",
   "pygments_lexer": "ipython3",
   "version": "3.6.1"
  }
 },
 "nbformat": 4,
 "nbformat_minor": 2
}
